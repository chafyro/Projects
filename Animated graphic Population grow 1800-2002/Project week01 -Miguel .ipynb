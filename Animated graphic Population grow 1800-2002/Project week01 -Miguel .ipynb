{
 "cells": [
  {
   "cell_type": "code",
   "execution_count": 7,
   "id": "9c2a2246",
   "metadata": {
    "scrolled": true
   },
   "outputs": [
    {
     "name": "stderr",
     "output_type": "stream",
     "text": [
      "/var/folders/43/x27mnfmj389_d9977vqn02tc0000gn/T/ipykernel_3312/3103649203.py:44: DeprecationWarning: Starting with ImageIO v3 the behavior of this function will switch to that of iio.v3.imread. To keep the current behavior (and make this warning disappear) use `import imageio.v2 as imageio` or call `imageio.v2.imread` directly.\n",
      "  images.append(imageio.imread(filename))\n"
     ]
    },
    {
     "name": "stdout",
     "output_type": "stream",
     "text": [
      "Animated GIF created successfully.\n"
     ]
    }
   ],
   "source": [
    "import pandas as pd\n",
    "import seaborn as sns\n",
    "import matplotlib.pyplot as plt\n",
    "\n",
    "\n",
    "fert = pd.read_csv('gapminder_total_fertility.csv', index_col=0)\n",
    "life = pd.read_excel('gapminder_lifeexpectancy.xlsx', index_col=0)\n",
    "pop = pd.read_excel('gapminder_population.xlsx', index_col=0)\n",
    "\n",
    "fert.columns = fert.columns.astype(int)\n",
    "fert.index.name = 'country'\n",
    "fert = fert.reset_index()\n",
    "fert = fert.melt(id_vars='country', var_name='year', value_name='fertility_rate')\n",
    "\n",
    "life.index.name = 'country'\n",
    "life = life.reset_index()\n",
    "life = life.melt(id_vars='country', var_name='year', value_name='life_expectancy')\n",
    "\n",
    "pop.index.name = 'country'\n",
    "pop = pop.reset_index()\n",
    "pop = pop.melt(id_vars='country', var_name='year', value_name='population')\n",
    "\n",
    "df = fert.merge(life).merge(pop)\n",
    "\n",
    "years = range(1800, 2002)\n",
    "\n",
    "for year in years:\n",
    "    df_subset = df.loc[df['year'] == year]\n",
    "    plt.figure()\n",
    "    sns.scatterplot(x='life_expectancy', y='fertility_rate',\n",
    "                    size='population', data=df_subset, alpha=0.6)\n",
    "    plt.title(f'Year: {year}')\n",
    "    plt.xlabel('Life Expectancy')\n",
    "    plt.ylabel('Fertility Rate')\n",
    "    plt.axis((20, 100, 0, 10))  \n",
    "    filename = f'lifeexp_{year}.png'\n",
    "    plt.savefig(filename)\n",
    "    plt.close()\n",
    "\n",
    "images = []\n",
    "for year in range(1800, 2002):\n",
    "    filename = f'lifeexp_{year}.png'\n",
    "    if os.path.isfile(filename):\n",
    "        images.append(imageio.imread(filename))\n",
    "    else:\n",
    "        print(f\"File not found: {filename}\")\n",
    "\n",
    "if len(images) > 0:\n",
    "    imageio.mimsave('output.gif', images, fps=20)\n",
    "    print(\"Animated GIF created successfully.\")\n",
    "else:\n",
    "    print(\"No images found to create the animated GIF.\")\n",
    "\n"
   ]
  },
  {
   "cell_type": "code",
   "execution_count": null,
   "id": "1a37c9d8",
   "metadata": {},
   "outputs": [],
   "source": []
  }
 ],
 "metadata": {
  "kernelspec": {
   "display_name": "Python 3 (ipykernel)",
   "language": "python",
   "name": "python3"
  },
  "language_info": {
   "codemirror_mode": {
    "name": "ipython",
    "version": 3
   },
   "file_extension": ".py",
   "mimetype": "text/x-python",
   "name": "python",
   "nbconvert_exporter": "python",
   "pygments_lexer": "ipython3",
   "version": "3.10.9"
  }
 },
 "nbformat": 4,
 "nbformat_minor": 5
}
